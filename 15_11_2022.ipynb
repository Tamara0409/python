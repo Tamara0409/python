{
  "nbformat": 4,
  "nbformat_minor": 0,
  "metadata": {
    "colab": {
      "provenance": [],
      "authorship_tag": "ABX9TyOEFykuGlxxyjzvSG429LKy",
      "include_colab_link": true
    },
    "kernelspec": {
      "name": "python3",
      "display_name": "Python 3"
    },
    "language_info": {
      "name": "python"
    }
  },
  "cells": [
    {
      "cell_type": "markdown",
      "metadata": {
        "id": "view-in-github",
        "colab_type": "text"
      },
      "source": [
        "<a href=\"https://colab.research.google.com/github/Tamara0409/python/blob/main/15_11_2022.ipynb\" target=\"_parent\"><img src=\"https://colab.research.google.com/assets/colab-badge.svg\" alt=\"Open In Colab\"/></a>"
      ]
    },
    {
      "cell_type": "markdown",
      "source": [
        "Hacer una función que, dada una lista de cadenas, informe cuántas veces ocurre cada cadena.\n",
        "\n",
        "\n",
        "Por ejemplo, si la lista es `['la', 'casa', 'roja', 'es', 'roja']`, debe reportar que 'la', 'casa' y 'es' aparecen una vez cada una y 'roja' aparece dos veces."
      ],
      "metadata": {
        "id": "csHgdGu0rLiu"
      }
    },
    {
      "cell_type": "code",
      "execution_count": 16,
      "metadata": {
        "colab": {
          "base_uri": "https://localhost:8080/"
        },
        "id": "9zxXm4KCqQu5",
        "outputId": "f5a0e2e0-4ccc-4d86-8190-e8798f2f0c1f"
      },
      "outputs": [
        {
          "output_type": "stream",
          "name": "stdout",
          "text": [
            "'la' aparece 1 vez.\n",
            "'casa' aparece 1 vez.\n",
            "'roja' aparece 2 veces.\n",
            "'es' aparece 1 vez.\n"
          ]
        }
      ],
      "source": [
        "def contar_frecuencia_cadenas(lista_cadenas):\n",
        "    frecuencia = {}           #diccionario vacio\n",
        "\n",
        "    for cadena in lista_cadenas:\n",
        "        frecuencia[cadena] = frecuencia[cadena] + 1 if cadena in frecuencia else 1\n",
        "\n",
        "    resultados = []\n",
        "    for cadena in frecuencia:\n",
        "        resultados.append(f\"'{cadena}' aparece {frecuencia[cadena]} {'vez' if frecuencia[cadena] == 1 else 'veces'}.\")\n",
        "\n",
        "    return resultados\n",
        "\n",
        "# Ejemplo de uso\n",
        "lista = ['la', 'casa', 'roja', 'es', 'roja']\n",
        "for resultado in contar_frecuencia_cadenas(lista):\n",
        "    print(resultado)"
      ]
    },
    {
      "cell_type": "code",
      "source": [
        "type(contar_frecuencia_cadenas(lista))"
      ],
      "metadata": {
        "colab": {
          "base_uri": "https://localhost:8080/"
        },
        "id": "8lZvIP7JzW4Q",
        "outputId": "f84323d7-13b8-4766-8fdc-8a1ae960db82"
      },
      "execution_count": 13,
      "outputs": [
        {
          "output_type": "execute_result",
          "data": {
            "text/plain": [
              "list"
            ]
          },
          "metadata": {},
          "execution_count": 13
        }
      ]
    }
  ]
}