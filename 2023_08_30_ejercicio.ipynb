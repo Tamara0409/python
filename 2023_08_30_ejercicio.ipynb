{
  "nbformat": 4,
  "nbformat_minor": 0,
  "metadata": {
    "colab": {
      "provenance": [],
      "authorship_tag": "ABX9TyOZl7F8Y9RGZTXDOHNna0F6",
      "include_colab_link": true
    },
    "kernelspec": {
      "name": "python3",
      "display_name": "Python 3"
    },
    "language_info": {
      "name": "python"
    }
  },
  "cells": [
    {
      "cell_type": "markdown",
      "metadata": {
        "id": "view-in-github",
        "colab_type": "text"
      },
      "source": [
        "<a href=\"https://colab.research.google.com/github/Tamara0409/python/blob/main/2023_08_30_ejercicio.ipynb\" target=\"_parent\"><img src=\"https://colab.research.google.com/assets/colab-badge.svg\" alt=\"Open In Colab\"/></a>"
      ]
    },
    {
      "cell_type": "markdown",
      "source": [
        "Define una clase que llame Perro, que tenga un atributo nombre y un método sonido (sin argumentos). Cuando se corra el método sonido en una instancia de la clase Perro, se debe regresar la cadena \"Guau\". Hacer una clase Gato análoga."
      ],
      "metadata": {
        "id": "cqyIywfxZ8fd"
      }
    },
    {
      "cell_type": "code",
      "source": [
        "class Perro:\n",
        "    pass\n",
        "\n",
        "b = Perro()\n",
        "b.nombre = \"Pulguita\"\n",
        "b.sonido = \"guau\"\n",
        "b.nombre, b.sonido\n",
        "\n"
      ],
      "metadata": {
        "colab": {
          "base_uri": "https://localhost:8080/"
        },
        "id": "omS6H8HDaBwG",
        "outputId": "d0b4e3fb-65b9-4819-ba7f-7715fcaac37d"
      },
      "execution_count": 12,
      "outputs": [
        {
          "output_type": "execute_result",
          "data": {
            "text/plain": [
              "('Pulguita', 'guau')"
            ]
          },
          "metadata": {},
          "execution_count": 12
        }
      ]
    },
    {
      "cell_type": "code",
      "source": [
        "def diálogo(nombre):\n",
        "    print(f\"Es un perro llamado {nombre}\")\n",
        "diálogo(\"Pulguita\")"
      ],
      "metadata": {
        "colab": {
          "base_uri": "https://localhost:8080/"
        },
        "id": "0MSzEZQTdFFO",
        "outputId": "c79acb78-eef2-4845-d7f8-37022d73afc5"
      },
      "execution_count": 14,
      "outputs": [
        {
          "output_type": "stream",
          "name": "stdout",
          "text": [
            "Es un perro llamado Pulguita\n"
          ]
        }
      ]
    }
  ]
}