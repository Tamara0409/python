{
  "nbformat": 4,
  "nbformat_minor": 0,
  "metadata": {
    "colab": {
      "provenance": [],
      "authorship_tag": "ABX9TyO0y/YfSfnt5gWXIGGN+8z9",
      "include_colab_link": true
    },
    "kernelspec": {
      "name": "python3",
      "display_name": "Python 3"
    },
    "language_info": {
      "name": "python"
    }
  },
  "cells": [
    {
      "cell_type": "markdown",
      "metadata": {
        "id": "view-in-github",
        "colab_type": "text"
      },
      "source": [
        "<a href=\"https://colab.research.google.com/github/Tamara0409/python/blob/main/2023_08_30.ipynb\" target=\"_parent\"><img src=\"https://colab.research.google.com/assets/colab-badge.svg\" alt=\"Open In Colab\"/></a>"
      ]
    },
    {
      "cell_type": "markdown",
      "source": [
        "\n",
        "  Define una función tal que, dados argumentos: cantidad y rango (dos enteros positivos), regrese un conjunto con cantidad números enteros aleatorios, que pueden estar entre -rango y rango.\n",
        "  \n"
      ],
      "metadata": {
        "id": "Ix1MW3dCFoTQ"
      }
    },
    {
      "cell_type": "markdown",
      "source": [
        "**RECORDATORIO**\n",
        "randint(): devuelve un número entero comprendido entre los valores indicados. Los valores de los límites inferior y superior también pueden aparecer entre los valores devueltos."
      ],
      "metadata": {
        "id": "I4X_bzFzQgGq"
      }
    },
    {
      "cell_type": "code",
      "source": [
        "from random import randint\n",
        "def argumentos(cantidad,rango):\n",
        "  numeros_aleatorios=[]\n",
        "  for i in range(cantidad): #numeros que se van a generar\n",
        "    numero=randint(-rango,rango)\n",
        "    numeros_aleatorios.append(numero)\n",
        "  return(numeros_aleatorios)\n",
        "argumentos(10,100)"
      ],
      "metadata": {
        "colab": {
          "base_uri": "https://localhost:8080/"
        },
        "id": "zZlXftLkHd4x",
        "outputId": "0fbae5ac-c54b-4cb3-bb30-7fe1e6f37834"
      },
      "execution_count": 16,
      "outputs": [
        {
          "output_type": "execute_result",
          "data": {
            "text/plain": [
              "[-63, -48, 34, 92, 51, 54, 75, 48, 61, -92]"
            ]
          },
          "metadata": {},
          "execution_count": 16
        }
      ]
    },
    {
      "cell_type": "code",
      "source": [
        "def subconjunto(numeros_aleatorios):\n",
        "  return [set(subconjunto) for i in range(len(numeros_aleatorios)+1) for subconjunto \\\n",
        "            in combinations(numeros_aleatorios, i)]\n",
        "\n",
        "subconjunto(argumentos)"
      ],
      "metadata": {
        "colab": {
          "base_uri": "https://localhost:8080/",
          "height": 334
        },
        "id": "Dr8TiWnVKPOW",
        "outputId": "4f964e64-e141-41b0-e627-8a85b870ee7b"
      },
      "execution_count": 28,
      "outputs": [
        {
          "output_type": "error",
          "ename": "TypeError",
          "evalue": "ignored",
          "traceback": [
            "\u001b[0;31m---------------------------------------------------------------------------\u001b[0m",
            "\u001b[0;31mTypeError\u001b[0m                                 Traceback (most recent call last)",
            "\u001b[0;32m<ipython-input-28-1f97449c7c86>\u001b[0m in \u001b[0;36m<cell line: 5>\u001b[0;34m()\u001b[0m\n\u001b[1;32m      3\u001b[0m             in combinations(numeros_aleatorios, i)]\n\u001b[1;32m      4\u001b[0m \u001b[0;34m\u001b[0m\u001b[0m\n\u001b[0;32m----> 5\u001b[0;31m \u001b[0msubconjunto\u001b[0m\u001b[0;34m(\u001b[0m\u001b[0margumentos\u001b[0m\u001b[0;34m)\u001b[0m\u001b[0;34m\u001b[0m\u001b[0;34m\u001b[0m\u001b[0m\n\u001b[0m",
            "\u001b[0;32m<ipython-input-28-1f97449c7c86>\u001b[0m in \u001b[0;36msubconjunto\u001b[0;34m(numeros_aleatorios)\u001b[0m\n\u001b[1;32m      1\u001b[0m \u001b[0;32mdef\u001b[0m \u001b[0msubconjunto\u001b[0m\u001b[0;34m(\u001b[0m\u001b[0mnumeros_aleatorios\u001b[0m\u001b[0;34m)\u001b[0m\u001b[0;34m:\u001b[0m\u001b[0;34m\u001b[0m\u001b[0;34m\u001b[0m\u001b[0m\n\u001b[0;32m----> 2\u001b[0;31m   return [set(subconjunto) for i in range(len(numeros_aleatorios)+1) for subconjunto \\\n\u001b[0m\u001b[1;32m      3\u001b[0m             in combinations(numeros_aleatorios, i)]\n\u001b[1;32m      4\u001b[0m \u001b[0;34m\u001b[0m\u001b[0m\n\u001b[1;32m      5\u001b[0m \u001b[0msubconjunto\u001b[0m\u001b[0;34m(\u001b[0m\u001b[0margumentos\u001b[0m\u001b[0;34m)\u001b[0m\u001b[0;34m\u001b[0m\u001b[0;34m\u001b[0m\u001b[0m\n",
            "\u001b[0;31mTypeError\u001b[0m: object of type 'function' has no len()"
          ]
        }
      ]
    },
    {
      "cell_type": "markdown",
      "source": [
        "NOTA: aun no sale dicho ejercicio"
      ],
      "metadata": {
        "id": "b56RGXtuUpHs"
      }
    }
  ]
}