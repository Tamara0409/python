{
  "nbformat": 4,
  "nbformat_minor": 0,
  "metadata": {
    "colab": {
      "provenance": [],
      "authorship_tag": "ABX9TyMYUvddxuNL37cHoU57W8k1",
      "include_colab_link": true
    },
    "kernelspec": {
      "name": "python3",
      "display_name": "Python 3"
    },
    "language_info": {
      "name": "python"
    }
  },
  "cells": [
    {
      "cell_type": "markdown",
      "metadata": {
        "id": "view-in-github",
        "colab_type": "text"
      },
      "source": [
        "<a href=\"https://colab.research.google.com/github/Tamara0409/python/blob/main/ExamenPrimerParcial.ipynb\" target=\"_parent\"><img src=\"https://colab.research.google.com/assets/colab-badge.svg\" alt=\"Open In Colab\"/></a>"
      ]
    },
    {
      "cell_type": "markdown",
      "source": [
        "#Examen Primer Parcial\n",
        "\n",
        "\n",
        "###Popoca Alvarado Tamara"
      ],
      "metadata": {
        "id": "NR9i9HtIUfo_"
      }
    },
    {
      "cell_type": "markdown",
      "source": [
        "\n",
        "\n",
        "Dado un entero positivo n, determinar la lista de todos los números de Fibonacci menores que n que sean múltiplos de 5.\n"
      ],
      "metadata": {
        "id": "pqA-fhvLYHqe"
      }
    },
    {
      "cell_type": "code",
      "source": [
        "def fibonacci_múltiplos_cinco(n):\n",
        "    a, b = 0, 1\n",
        "    fibonacci_list = []   #creamos la lista vacia\n",
        "\n",
        "    while a < n:\n",
        "        if a % 5 == 0:\n",
        "            fibonacci_list.append(a)\n",
        "        a, b = b, a + b\n",
        "\n",
        "    return fibonacci_list\n",
        "n=3000\n",
        "multiplos =fibonacci_múltiplos_cinco(n)\n",
        "print(multiplos)"
      ],
      "metadata": {
        "colab": {
          "base_uri": "https://localhost:8080/"
        },
        "id": "pRntK78kWKkF",
        "outputId": "704c455a-1718-457a-9637-18c1f3072a0a"
      },
      "execution_count": 16,
      "outputs": [
        {
          "output_type": "stream",
          "name": "stdout",
          "text": [
            "[0, 5, 55, 610]\n"
          ]
        }
      ]
    }
  ]
}