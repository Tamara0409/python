{
  "nbformat": 4,
  "nbformat_minor": 0,
  "metadata": {
    "colab": {
      "provenance": [],
      "include_colab_link": true
    },
    "kernelspec": {
      "name": "python3",
      "display_name": "Python 3"
    },
    "language_info": {
      "name": "python"
    }
  },
  "cells": [
    {
      "cell_type": "markdown",
      "metadata": {
        "id": "view-in-github",
        "colab_type": "text"
      },
      "source": [
        "<a href=\"https://colab.research.google.com/github/Tamara0409/python/blob/main/N%C3%BAmeros_complejos_.ipynb\" target=\"_parent\"><img src=\"https://colab.research.google.com/assets/colab-badge.svg\" alt=\"Open In Colab\"/></a>"
      ]
    },
    {
      "cell_type": "markdown",
      "source": [
        "*Números complejos*\n",
        "\n",
        "**Suma, resta y multiplicación**"
      ],
      "metadata": {
        "id": "sy87AxsKfunA"
      }
    },
    {
      "cell_type": "code",
      "execution_count": 1,
      "metadata": {
        "colab": {
          "base_uri": "https://localhost:8080/"
        },
        "id": "8mnrO4odfq9w",
        "outputId": "5debcc2a-22aa-44b7-94df-53da4e26d02e"
      },
      "outputs": [
        {
          "output_type": "execute_result",
          "data": {
            "text/plain": [
              "(3, -2, <__main__.Complejo at 0x7a7eaa61fac0>)"
            ]
          },
          "metadata": {},
          "execution_count": 1
        }
      ],
      "source": [
        "class Complejo:\n",
        "    pass\n",
        "\n",
        "z = Complejo()\n",
        "z.parte_real = 3\n",
        "z.parte_imaginaria = -2\n",
        "z.parte_real, z.parte_imaginaria, z"
      ]
    },
    {
      "cell_type": "code",
      "source": [
        "class NúmeroComplejo:\n",
        "    def __init__(self, parte_real, parte_imaginaria):\n",
        "        self.r = parte_real\n",
        "        self.i = parte_imaginaria\n",
        "\n",
        "z = NúmeroComplejo(2, -3)\n",
        "z.r, z.i, z, type(z)"
      ],
      "metadata": {
        "colab": {
          "base_uri": "https://localhost:8080/"
        },
        "id": "2BKq-YjAgaad",
        "outputId": "3afaa271-8085-44cf-c413-35ab7084bb0b"
      },
      "execution_count": 2,
      "outputs": [
        {
          "output_type": "execute_result",
          "data": {
            "text/plain": [
              "(2, -3, <__main__.NúmeroComplejo at 0x7a7eaa61fe50>, __main__.NúmeroComplejo)"
            ]
          },
          "metadata": {},
          "execution_count": 2
        }
      ]
    },
    {
      "cell_type": "code",
      "source": [
        "from math import sqrt\n",
        "\n",
        "class NúmeroComplejo:\n",
        "    def __init__(self, parte_real, parte_imaginaria):\n",
        "        self.r = parte_real\n",
        "        self.i = parte_imaginaria\n",
        "\n",
        "    def módulo(self):\n",
        "        return sqrt(self.r**2 + self.i**2)\n",
        "\n",
        "z = NúmeroComplejo(3, -1)\n",
        "z.r, z.i, z, z.módulo()"
      ],
      "metadata": {
        "colab": {
          "base_uri": "https://localhost:8080/"
        },
        "id": "zDSyJNhwggrS",
        "outputId": "505053a6-acf5-4bf6-a307-93881d23f52b"
      },
      "execution_count": 3,
      "outputs": [
        {
          "output_type": "execute_result",
          "data": {
            "text/plain": [
              "(3, -1, <__main__.NúmeroComplejo at 0x7a7eaa61fd90>, 3.1622776601683795)"
            ]
          },
          "metadata": {},
          "execution_count": 3
        }
      ]
    },
    {
      "cell_type": "code",
      "source": [
        "class NúmeroComplejo:\n",
        "    def __init__(self, parte_real, parte_imaginaria):\n",
        "        self.r = parte_real\n",
        "        self.i = parte_imaginaria\n",
        "\n",
        "    def __repr__(self):\n",
        "        return f\"NúmeroComplejo({self.r}, {self.i})\"\n",
        "\n",
        "    def módulo(self):\n",
        "        return sqrt(self.r**2+self.i**2)\n",
        "\n",
        "z = NúmeroComplejo(3, -4)\n",
        "z.r, z.i, z, z.módulo()"
      ],
      "metadata": {
        "colab": {
          "base_uri": "https://localhost:8080/"
        },
        "id": "jHmIRwe6gnqL",
        "outputId": "03f64710-3742-439e-948b-a96ab076cec3"
      },
      "execution_count": 4,
      "outputs": [
        {
          "output_type": "execute_result",
          "data": {
            "text/plain": [
              "(3, -4, NúmeroComplejo(3, -4), 5.0)"
            ]
          },
          "metadata": {},
          "execution_count": 4
        }
      ]
    },
    {
      "cell_type": "markdown",
      "source": [
        "Para realizar la suma de dos números complejos"
      ],
      "metadata": {
        "id": "jEldJHOGgs2w"
      }
    },
    {
      "cell_type": "code",
      "source": [
        "def suma_complejos(z1, z2):\n",
        "    return NúmeroComplejo(z1.r + z2.r, z1.i + z2.i)\n",
        "\n",
        "z = NúmeroComplejo(3, -4)\n",
        "w = NúmeroComplejo(3, 4)\n",
        "\n",
        "suma_complejos(z, w)"
      ],
      "metadata": {
        "colab": {
          "base_uri": "https://localhost:8080/"
        },
        "id": "-CJKgrnjgo1r",
        "outputId": "44902c46-a1e6-4257-bcaa-623e7e47b584"
      },
      "execution_count": 5,
      "outputs": [
        {
          "output_type": "execute_result",
          "data": {
            "text/plain": [
              "NúmeroComplejo(6, 0)"
            ]
          },
          "metadata": {},
          "execution_count": 5
        }
      ]
    },
    {
      "cell_type": "markdown",
      "source": [
        "Para definir la suma directamente, se define el método __add__, cuyos argumentos son self y other:"
      ],
      "metadata": {
        "id": "kP1PvG4sg7pD"
      }
    },
    {
      "cell_type": "code",
      "source": [
        "from sympy import sqrt\n",
        "\n",
        "class Complejo:\n",
        "    def __init__(self, parte_real, parte_imaginaria):\n",
        "        self.r = parte_real\n",
        "        self.i = parte_imaginaria\n",
        "\n",
        "    def __repr__(self):\n",
        "        return f\"Complejo({self.r}, {self.i})\"\n",
        "\n",
        "    def __add__(self, other):\n",
        "        return Complejo(self.r + other.r, self.i + other.i)\n",
        "\n",
        "    def módulo(self):\n",
        "        return sqrt(self.r**2+self.i**2)\n",
        "\n",
        "z = Complejo(2, -1)\n",
        "z.r, z.i, z, z.módulo()"
      ],
      "metadata": {
        "colab": {
          "base_uri": "https://localhost:8080/"
        },
        "id": "RkePvSoFg3kd",
        "outputId": "1049815b-0590-4f07-e088-255ae79eca20"
      },
      "execution_count": 6,
      "outputs": [
        {
          "output_type": "execute_result",
          "data": {
            "text/plain": [
              "(2, -1, Complejo(2, -1), sqrt(5))"
            ]
          },
          "metadata": {},
          "execution_count": 6
        }
      ]
    },
    {
      "cell_type": "code",
      "source": [
        "z = Complejo(2, -5)\n",
        "w = Complejo(3, 4)\n",
        "z, w, z+w"
      ],
      "metadata": {
        "colab": {
          "base_uri": "https://localhost:8080/"
        },
        "id": "1QyaqeMFg_mP",
        "outputId": "c7b0a04d-1868-4082-b6c0-fbe4a64eb714"
      },
      "execution_count": 7,
      "outputs": [
        {
          "output_type": "execute_result",
          "data": {
            "text/plain": [
              "(Complejo(2, -5), Complejo(3, 4), Complejo(5, -1))"
            ]
          },
          "metadata": {},
          "execution_count": 7
        }
      ]
    },
    {
      "cell_type": "markdown",
      "source": [
        "TAREA:\n",
        "\n",
        "Definir la resta (__sub__) y la multiplicación (__mul__) de dos números, usando los operadores - y *.\n",
        "\n",
        "En la clase ProgramaMochila, definir un método solución.\n",
        "\n",
        "Definir métodos que se llamen conjugado, inverso. Definir división de complejos (__div__)."
      ],
      "metadata": {
        "id": "e5As3AZfgyGd"
      }
    },
    {
      "cell_type": "markdown",
      "source": [
        "Para realizar la resta"
      ],
      "metadata": {
        "id": "OFtUtX4whOOT"
      }
    },
    {
      "cell_type": "code",
      "source": [
        "def resta_complejos(z1, z2):\n",
        "    return NúmeroComplejo(z1.r - z2.r, z1.i - z2.i)\n",
        "\n",
        "z = NúmeroComplejo(3, -4)\n",
        "w = NúmeroComplejo(3, 4)\n",
        "\n",
        "resta_complejos(z, w)"
      ],
      "metadata": {
        "colab": {
          "base_uri": "https://localhost:8080/"
        },
        "id": "lnxG_Yz0hKu8",
        "outputId": "1377208b-64f0-4801-b9bd-b7adc02d7287"
      },
      "execution_count": 8,
      "outputs": [
        {
          "output_type": "execute_result",
          "data": {
            "text/plain": [
              "NúmeroComplejo(0, -8)"
            ]
          },
          "metadata": {},
          "execution_count": 8
        }
      ]
    },
    {
      "cell_type": "markdown",
      "source": [
        "la multiplicación se realiza de la siguiente manera"
      ],
      "metadata": {
        "id": "6m-mjSUFhQLm"
      }
    },
    {
      "cell_type": "code",
      "source": [
        "def producto_complejos(z1, z2):\n",
        "    return NúmeroComplejo((z1.r * z2.r)-(z1.i * z2.i), (z1.r * z2.i)+(z1.i*z2.r))\n",
        "\n",
        "z = NúmeroComplejo(3, -4)\n",
        "w = NúmeroComplejo(3, 4)\n",
        "\n",
        "producto_complejos(z, w)"
      ],
      "metadata": {
        "colab": {
          "base_uri": "https://localhost:8080/"
        },
        "id": "BfmNVj1GhTg-",
        "outputId": "52e1da1f-0805-4a49-f406-7b280c972c44"
      },
      "execution_count": 9,
      "outputs": [
        {
          "output_type": "execute_result",
          "data": {
            "text/plain": [
              "NúmeroComplejo(25, 0)"
            ]
          },
          "metadata": {},
          "execution_count": 9
        }
      ]
    }
  ]
}