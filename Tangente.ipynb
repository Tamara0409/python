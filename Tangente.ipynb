{
  "nbformat": 4,
  "nbformat_minor": 0,
  "metadata": {
    "colab": {
      "provenance": [],
      "include_colab_link": true
    },
    "kernelspec": {
      "name": "python3",
      "display_name": "Python 3"
    },
    "language_info": {
      "name": "python"
    }
  },
  "cells": [
    {
      "cell_type": "markdown",
      "metadata": {
        "id": "view-in-github",
        "colab_type": "text"
      },
      "source": [
        "<a href=\"https://colab.research.google.com/github/Tamara0409/python/blob/main/Tangente.ipynb\" target=\"_parent\"><img src=\"https://colab.research.google.com/assets/colab-badge.svg\" alt=\"Open In Colab\"/></a>"
      ]
    },
    {
      "cell_type": "markdown",
      "source": [
        "##Ecuación de recta tangente\n",
        "Dada una expresión algebraica y un punto, define una función que regrese la ecuación de la recta tangente en el punto. (La ecuación se puede representar con Eq)\n"
      ],
      "metadata": {
        "id": "9kY-oSkbQe7j"
      }
    },
    {
      "cell_type": "code",
      "execution_count": 4,
      "metadata": {
        "id": "FF9Xw11SQLAN",
        "colab": {
          "base_uri": "https://localhost:8080/",
          "height": 38
        },
        "outputId": "029c169d-3be6-4293-93f8-c2b1fa7b3c6b"
      },
      "outputs": [
        {
          "output_type": "execute_result",
          "data": {
            "text/plain": [
              "(y = 22⋅x - 73, y = 252⋅x - 506)"
            ],
            "text/latex": "$\\displaystyle \\left( y = 22 x - 73, \\  y = 252 x - 506\\right)$"
          },
          "metadata": {},
          "execution_count": 4
        }
      ],
      "source": [
        "from sympy import init_printing, symbols, Eq, diff\n",
        "init_printing(use_latex=True)\n",
        "\n",
        "x = symbols('x')\n",
        "\n",
        "def rectan(eq,p):\n",
        "    \"\"\"Encuentra la recta tangente\"\"\"\n",
        "    y = symbols('y')\n",
        "    fy = eq.subs({x:p})\n",
        "    d = diff(eq)\n",
        "    fpy = d.subs({x:p})\n",
        "    tangente= Eq(y,fy + fpy*(x-p))\n",
        "    return tangente\n",
        "\n",
        "\n",
        "rectan(x**2+4*x+8,9), rectan(8*x**3+6*x**2-20,3)\n"
      ]
    }
  ]
}